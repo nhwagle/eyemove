{
 "cells": [
  {
   "cell_type": "code",
   "execution_count": 1,
   "metadata": {},
   "outputs": [],
   "source": [
    "import pandas as pd\n",
    "import numpy as np\n",
    "import os\n",
    "from sklearn.metrics import roc_curve\n",
    "from sklearn.metrics import roc_auc_score\n",
    "import matplotlib.pyplot as plt\n",
    "from matplotlib.pyplot import cm\n",
    "from sklearn.metrics import confusion_matrix\n",
    "from sklearn.metrics import accuracy_score\n",
    "from sklearn.metrics import recall_score\n",
    "from sklearn.metrics import precision_score"
   ]
  },
  {
   "cell_type": "markdown",
   "metadata": {},
   "source": [
    "# Select predictions file"
   ]
  },
  {
   "cell_type": "code",
   "execution_count": 2,
   "metadata": {},
   "outputs": [
    {
     "name": "stdout",
     "output_type": "stream",
     "text": [
      "0 : predictions_FRAME.npy\n",
      "1 : predictions_inception_original_missingvids_minorimbalance_5epochs_213609_03-13.npy\n",
      "2 : predictions_resnet_original_missingvids_minorimbalance_15epochs_153620_03-14.npy\n",
      "3 : predictions_0.15s_missingvids_minorimbalance_5epochs_152927_03-05.npy\n",
      "4 : predictions_inception_original_missingvids_minorimbalance_5epochs_64bs_153620_03-14.npy\n",
      "5 : predictions_ominus1s_missingvids_minorimbalance_5epochs_184859_03-04.npy\n",
      "6 : predictions_small0.15s_missingvids_minorimbalance_5epochs_121526_03-09.npy\n",
      "7 : predictions_FRAME_all.npy\n",
      "8 : predictions_small1s_missingvids_minorimbalance_5epochs_120943_03-06.npy\n",
      "9 : predictions_s2_missingvids_minorimbalance_5epochs_181615_03-01.npy\n",
      "10 : predictions_vgg_original_missingvids_minorimbalance_5epochs_215612_03-13.npy\n",
      "11 : predictions_densenet_original_missingvids_minorimbalance_5epochs_103622_03-15.npy\n",
      "12 : predictions_o_missingvids_minorimbalance_5epochs_224638_02-20.npy\n",
      "13 : predictions_resnet_original_missingvids_minorimbalance_5epochs_165614_03-13.npy\n",
      "14 : predictions_s0.333_missingvids_minorimbalance_5epochs_212905_03-03.npy\n",
      "15 : predictions_s1_missingvids_minorimbalance_5epochs_152550_02-27.npy\n",
      "17 : predictions_s0.5_missingvids_minorimbalance_5epochs_230857_03-02.npy\n",
      "18 : predictions_vgg_original_missingvids_minorimbalance_15epochs_64bs_155608_03-14.npy\n"
     ]
    }
   ],
   "source": [
    "ppaths = os.listdir('preds')\n",
    "for i in range(len(ppaths)):\n",
    "    if 'pred' in ppaths[i]:\n",
    "        print(i, ':', ppaths[i])"
   ]
  },
  {
   "cell_type": "code",
   "execution_count": 3,
   "metadata": {},
   "outputs": [
    {
     "data": {
      "text/plain": [
       "['./preds/predictions_o_missingvids_minorimbalance_5epochs_224638_02-20.npy']"
      ]
     },
     "execution_count": 3,
     "metadata": {},
     "output_type": "execute_result"
    }
   ],
   "source": [
    "#selection = [5, 1, 4, 7, 9, 6, 0, 3, 2] # manually choose here or clean the preds dir manually of bad preds\n",
    "#titles = ['original', 'original (reduced)', '2s', '1s', '500ms', '333ms', '150ms', '1s (10 FIs)', '150ms (60 FIs)']\n",
    "\n",
    "selection = [12]\n",
    "titles = ['original']\n",
    "paths = ['./preds/'+ppaths[i] for i in selection]\n",
    "paths"
   ]
  },
  {
   "cell_type": "markdown",
   "metadata": {},
   "source": [
    "# Process video level predictions"
   ]
  },
  {
   "cell_type": "code",
   "execution_count": 4,
   "metadata": {},
   "outputs": [],
   "source": [
    "def getyp(preds, optimal_thresh):\n",
    "    # this is a dictionary that stores predictions\n",
    "    # key = video name\n",
    "    # value = [count of filtered images above threshold, count of filtered images per video, true label of 0 or 1 (normal or nystagmus)]\n",
    "    vids_dict = dict()\n",
    "    for pred in preds:\n",
    "        name = pred[0].split('/')[1].split('.')[0]\n",
    "        name = name.split('-')[0] + name.split('-')[1]\n",
    "        prob = float(pred[2])\n",
    "        try:\n",
    "            p, c, label = vids_dict[name]\n",
    "            # p += prob\n",
    "            p += 1 if prob >= optimal_thresh else 0\n",
    "            c += 1\n",
    "            vids_dict[name] = (p, c, label)\n",
    "        except:\n",
    "            # p = prob\n",
    "            p = 1 if prob >= optimal_thresh else 0\n",
    "            c = 1\n",
    "            label = int(float('nystagmus' in pred[0]))\n",
    "            vids_dict[name] = (p,c,label)\n",
    "    # this function calculates a list of probabilities of nystagmus for each video\n",
    "    # vid_dict.keys(), y, probs are in same order (print to view)\n",
    "\n",
    "    y = []\n",
    "    probs = []\n",
    "    for key in vids_dict.keys():\n",
    "        p, c, label = vids_dict[key]\n",
    "        y.append(label)\n",
    "        prob = float(p)/float(c)\n",
    "        probs.append(prob)\n",
    "    y = np.array(y) # true labels\n",
    "    probs = np.array(probs) # predicted probabilities of nystagmus\n",
    "    return y, probs"
   ]
  },
  {
   "cell_type": "markdown",
   "metadata": {},
   "source": [
    "# Process predictions"
   ]
  },
  {
   "cell_type": "code",
   "execution_count": 5,
   "metadata": {},
   "outputs": [],
   "source": [
    "def manual_correction(preds):\n",
    "    cases = ['04-GazeC_V', '10-lean', '18-GazeR_V']\n",
    "    corrected_preds = []\n",
    "    for pred in preds:\n",
    "        cpred = pred\n",
    "        for case in cases:\n",
    "            if case in cpred[0]:\n",
    "                cpred[0] = 'nystagmus' + '/' + cpred[0].split('/')[1]\n",
    "        corrected_preds.append(cpred)\n",
    "    corrected_preds = np.array(corrected_preds)\n",
    "    return corrected_preds"
   ]
  },
  {
   "cell_type": "code",
   "execution_count": 12,
   "metadata": {},
   "outputs": [],
   "source": [
    "def process_preds(path, window=0):\n",
    "    name = path.split('_')[1]\n",
    "    \n",
    "    preds = np.load(path)\n",
    "    \n",
    "    preds = manual_correction(preds)\n",
    "    \n",
    "    if window > 0:\n",
    "        wtf = int(window*60.0)\n",
    "        preds_new = []\n",
    "        for pred in preds:\n",
    "            finum = int(pred[0].split('-')[2].split('.')[0])\n",
    "            if finum < wtf:\n",
    "                preds_new.append(pred)\n",
    "        preds = np.array(preds_new)\n",
    "    \n",
    "    probs_fi = np.array([float(p) for p in preds[:, 2]])\n",
    "    y_fi = np.array([int(float('nystagmus' in l)) for l in preds[:,0]])\n",
    "    fpr, tpr, thresh = roc_curve(y_fi, probs_fi, pos_label=1)\n",
    "    auc_score = roc_auc_score(y_fi, probs_fi)\n",
    "    # print(name + ' AUC = ', auc_score)\n",
    "    \n",
    "    optimal_thresh = thresh[np.argmax(tpr-fpr)]\n",
    "    print(name + ' Optimal Threshold for FI probs = ',round(optimal_thresh*100,2),'%')\n",
    "    \n",
    "    y, probs = getyp(preds, optimal_thresh)\n",
    "    \n",
    "    fpr, tpr, thresh = roc_curve(y, probs, pos_label=1)\n",
    "    auc_score = roc_auc_score(y, probs)\n",
    "    print(name + ' AUC = ', auc_score)\n",
    "    \n",
    "    optimal_thresh = thresh[np.argmax(tpr-fpr)]\n",
    "    preds = np.array([int(float(p)) for p in (probs >= optimal_thresh)])\n",
    "    conf_matrix = confusion_matrix(y, preds)\n",
    "    \n",
    "    acc = accuracy_score(y, preds)\n",
    "    acc = str(round(acc*100,2)) + '%'\n",
    "    \n",
    "    tn, fp, fn, tp = conf_matrix.ravel()\n",
    "    \n",
    "    sensitivity = tp/(tp+fn)\n",
    "    specificity = tn/(tn+fp)\n",
    "    ppv = tp/(tp+fp)\n",
    "    npv = tn/(fn+tn)\n",
    "    \n",
    "    metrics = [sensitivity, specificity, ppv, npv, acc]\n",
    "    \n",
    "    return fpr, tpr, auc_score, metrics"
   ]
  },
  {
   "cell_type": "code",
   "execution_count": 13,
   "metadata": {},
   "outputs": [
    {
     "name": "stdout",
     "output_type": "stream",
     "text": [
      "o Optimal Threshold for FI probs =  42.54 %\n",
      "o AUC =  0.8572237318840581\n",
      "o Optimal Threshold for FI probs =  29.92 %\n",
      "o AUC =  0.8470335144927537\n",
      "o Optimal Threshold for FI probs =  49.85 %\n",
      "o AUC =  0.8502038043478262\n",
      "o Optimal Threshold for FI probs =  49.56 %\n",
      "o AUC =  0.8554121376811594\n",
      "o Optimal Threshold for FI probs =  30.83 %\n",
      "o AUC =  0.860846920289855\n",
      "o Optimal Threshold for FI probs =  32.49 %\n",
      "o AUC =  0.8623188405797102\n",
      "o Optimal Threshold for FI probs =  30.07 %\n",
      "o AUC =  0.8605072463768115\n",
      "o Optimal Threshold for FI probs =  33.63 %\n",
      "o AUC =  0.8548460144927537\n",
      "o Optimal Threshold for FI probs =  29.8 %\n",
      "o AUC =  0.8588088768115942\n",
      "o Optimal Threshold for FI probs =  32.49 %\n",
      "o AUC =  0.8575634057971014\n",
      "o Optimal Threshold for FI probs =  32.49 %\n",
      "o AUC =  0.8588088768115942\n",
      "o Optimal Threshold for FI probs =  36.94 %\n",
      "o AUC =  0.8585824275362319\n",
      "o Optimal Threshold for FI probs =  33.83 %\n",
      "o AUC =  0.8632246376811594\n",
      "o Optimal Threshold for FI probs =  36.94 %\n",
      "o AUC =  0.8640172101449275\n",
      "o Optimal Threshold for FI probs =  36.94 %\n",
      "o AUC =  0.8667346014492754\n",
      "o Optimal Threshold for FI probs =  36.94 %\n",
      "o AUC =  0.8674139492753623\n",
      "o Optimal Threshold for FI probs =  57.94 %\n",
      "o AUC =  0.8710371376811593\n",
      "o Optimal Threshold for FI probs =  32.49 %\n",
      "o AUC =  0.8687726449275363\n",
      "o Optimal Threshold for FI probs =  32.49 %\n",
      "o AUC =  0.8703577898550725\n",
      "o Optimal Threshold for FI probs =  32.49 %\n",
      "o AUC =  0.8703577898550725\n"
     ]
    }
   ],
   "source": [
    "aucs = []\n",
    "windows = []\n",
    "path = paths[0]\n",
    "for i in range(1, 21):\n",
    "    w = i/2\n",
    "    fpr, tpr, auc_score, metrics = process_preds(path, window=w)\n",
    "    aucs.append(auc_score)\n",
    "    windows.append(w)"
   ]
  },
  {
   "cell_type": "code",
   "execution_count": 11,
   "metadata": {},
   "outputs": [
    {
     "data": {
      "image/png": "[encoded data removed]",
      "text/plain": [
       "<Figure size 432x288 with 1 Axes>"
      ]
     },
     "metadata": {},
     "output_type": "display_data"
    }
   ],
   "source": [
    "plt.plot(windows, aucs)\n",
    "plt.xticks(np.arange(0, 10, step=0.5))\n",
    "plt.ylim((0.84,0.89))\n",
    "plt.yticks(np.arange(0.84,0.89,step=0.01))\n",
    "plt.show()"
   ]
  },
  {
   "cell_type": "code",
   "execution_count": 44,
   "metadata": {},
   "outputs": [
    {
     "name": "stdout",
     "output_type": "stream",
     "text": [
      "o AUC =  0.8136437371312709\n",
      "o Optimal Threshold for FI probs =  32.49 %\n",
      "o AUC =  0.8531207598371777\n"
     ]
    },
    {
     "data": {
      "image/png": "[encoded data removed]",
      "text/plain": [
       "<Figure size 576x396 with 1 Axes>"
      ]
     },
     "metadata": {},
     "output_type": "display_data"
    }
   ],
   "source": [
    "plt.style.use('seaborn')\n",
    "\n",
    "colors=cm.rainbow(np.linspace(0,1,len(paths)))\n",
    "\n",
    "stats = []\n",
    "\n",
    "for path, title, c in zip(paths, titles, colors):\n",
    "    fpr, tpr, auc_score, metrics = process_preds(path)\n",
    "    l = title + ' (AUC=' + str(round(auc_score,3)) + ')'\n",
    "    stat = [title] + metrics\n",
    "    stats.append(stat)\n",
    "    plt.plot(fpr, tpr, linestyle='-',color=c, label=l)\n",
    "\n",
    "#plot random\n",
    "random_probs = [0 for i in range(1000)]\n",
    "p_fpr, p_tpr, _ = roc_curve(list(np.arange(1000)), random_probs, pos_label=1)\n",
    "plt.plot(p_fpr, p_tpr, linestyle='--', color='black')\n",
    "plt.title('ROC curve')\n",
    "plt.xlabel('False Positive Rate')\n",
    "plt.ylabel('True Positive rate')\n",
    "plt.legend(loc='best')\n",
    "#plt.savefig('ROC',dpi=300)\n",
    "plt.show();"
   ]
  },
  {
   "cell_type": "markdown",
   "metadata": {},
   "source": [
    "# METRICS"
   ]
  },
  {
   "cell_type": "code",
   "execution_count": 25,
   "metadata": {},
   "outputs": [
    {
     "data": {
      "text/html": [
       "<div>\n",
       "<style scoped>\n",
       "    .dataframe tbody tr th:only-of-type {\n",
       "        vertical-align: middle;\n",
       "    }\n",
       "\n",
       "    .dataframe tbody tr th {\n",
       "        vertical-align: top;\n",
       "    }\n",
       "\n",
       "    .dataframe thead th {\n",
       "        text-align: right;\n",
       "    }\n",
       "</style>\n",
       "<table border=\"1\" class=\"dataframe\">\n",
       "  <thead>\n",
       "    <tr style=\"text-align: right;\">\n",
       "      <th></th>\n",
       "      <th>Sensitivity</th>\n",
       "      <th>Specificity</th>\n",
       "      <th>PPV</th>\n",
       "      <th>NPV</th>\n",
       "      <th>Accuracy</th>\n",
       "    </tr>\n",
       "    <tr>\n",
       "      <th>Experiment</th>\n",
       "      <th></th>\n",
       "      <th></th>\n",
       "      <th></th>\n",
       "      <th></th>\n",
       "      <th></th>\n",
       "    </tr>\n",
       "  </thead>\n",
       "  <tbody>\n",
       "    <tr>\n",
       "      <th>resnet</th>\n",
       "      <td>0.769231</td>\n",
       "      <td>0.835821</td>\n",
       "      <td>0.819672</td>\n",
       "      <td>0.788732</td>\n",
       "      <td>80.3%</td>\n",
       "    </tr>\n",
       "    <tr>\n",
       "      <th>resnet increase epochs</th>\n",
       "      <td>0.846154</td>\n",
       "      <td>0.701493</td>\n",
       "      <td>0.733333</td>\n",
       "      <td>0.824561</td>\n",
       "      <td>77.27%</td>\n",
       "    </tr>\n",
       "    <tr>\n",
       "      <th>inception</th>\n",
       "      <td>0.846154</td>\n",
       "      <td>0.761194</td>\n",
       "      <td>0.774648</td>\n",
       "      <td>0.836066</td>\n",
       "      <td>80.3%</td>\n",
       "    </tr>\n",
       "    <tr>\n",
       "      <th>inception increase batch size</th>\n",
       "      <td>0.830769</td>\n",
       "      <td>0.731343</td>\n",
       "      <td>0.750000</td>\n",
       "      <td>0.816667</td>\n",
       "      <td>78.03%</td>\n",
       "    </tr>\n",
       "    <tr>\n",
       "      <th>vgg</th>\n",
       "      <td>0.784615</td>\n",
       "      <td>0.776119</td>\n",
       "      <td>0.772727</td>\n",
       "      <td>0.787879</td>\n",
       "      <td>78.03%</td>\n",
       "    </tr>\n",
       "    <tr>\n",
       "      <th>vgg increase both</th>\n",
       "      <td>0.784615</td>\n",
       "      <td>0.686567</td>\n",
       "      <td>0.708333</td>\n",
       "      <td>0.766667</td>\n",
       "      <td>73.48%</td>\n",
       "    </tr>\n",
       "  </tbody>\n",
       "</table>\n",
       "</div>"
      ],
      "text/plain": [
       "                               Sensitivity  Specificity       PPV       NPV  \\\n",
       "Experiment                                                                    \n",
       "resnet                            0.769231     0.835821  0.819672  0.788732   \n",
       "resnet increase epochs            0.846154     0.701493  0.733333  0.824561   \n",
       "inception                         0.846154     0.761194  0.774648  0.836066   \n",
       "inception increase batch size     0.830769     0.731343  0.750000  0.816667   \n",
       "vgg                               0.784615     0.776119  0.772727  0.787879   \n",
       "vgg increase both                 0.784615     0.686567  0.708333  0.766667   \n",
       "\n",
       "                              Accuracy  \n",
       "Experiment                              \n",
       "resnet                           80.3%  \n",
       "resnet increase epochs          77.27%  \n",
       "inception                        80.3%  \n",
       "inception increase batch size   78.03%  \n",
       "vgg                             78.03%  \n",
       "vgg increase both               73.48%  "
      ]
     },
     "execution_count": 25,
     "metadata": {},
     "output_type": "execute_result"
    }
   ],
   "source": [
    "cols = ['Experiment', 'Sensitivity', 'Specificity', 'PPV', 'NPV', 'Accuracy']\n",
    "df = pd.DataFrame(stats)\n",
    "df.columns = cols\n",
    "df.set_index('Experiment', inplace=True)\n",
    "df.to_csv('./stats/03-16-21-hyptuning.csv')\n",
    "df.head(10)"
   ]
  }
 ],
 "metadata": {
  "kernelspec": {
   "display_name": "Python [default]",
   "language": "python",
   "name": "python3"
  },
  "language_info": {
   "codemirror_mode": {
    "name": "ipython",
    "version": 3
   },
   "file_extension": ".py",
   "mimetype": "text/x-python",
   "name": "python",
   "nbconvert_exporter": "python",
   "pygments_lexer": "ipython3",
   "version": "3.6.5"
  }
 },
 "nbformat": 4,
 "nbformat_minor": 4
}
